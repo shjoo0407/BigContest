{
  "nbformat": 4,
  "nbformat_minor": 0,
  "metadata": {
    "colab": {
      "provenance": [],
      "machine_shape": "hm"
    },
    "kernelspec": {
      "name": "python3",
      "display_name": "Python 3"
    },
    "language_info": {
      "name": "python"
    }
  },
  "cells": [
    {
      "cell_type": "markdown",
      "source": [
        "#### **데이터 불러오기**"
      ],
      "metadata": {
        "id": "LRFyPwJN4HSP"
      }
    },
    {
      "cell_type": "code",
      "execution_count": null,
      "metadata": {
        "id": "mp8K5Uxl4BjM"
      },
      "outputs": [],
      "source": [
        "# 메서드 불러오기\n",
        "import pandas as pd\n",
        "import numpy as np\n",
        "import matplotlib.pyplot as plt\n",
        "import seaborn as sns\n",
        "import datetime\n",
        "import time\n",
        "\n",
        "# Model\n",
        "from sklearn.ensemble import RandomForestClassifier\n",
        "from sklearn.ensemble import ExtraTreesClassifier\n",
        "from xgboost import XGBClassifier\n",
        "from lightgbm import LGBMClassifier\n",
        "from catboost import CatBoostClassifier\n",
        "\n",
        "# Voting\n",
        "from sklearn.ensemble import VotingClassifier\n",
        "\n",
        "\n",
        "from sklearn.model_selection import train_test_split\n",
        "from sklearn.preprocessing import MinMaxScaler\n",
        "\n",
        "# Metrics\n",
        "from sklearn.metrics import f1_score, confusion_matrix"
      ]
    },
    {
      "cell_type": "code",
      "source": [
        "plt.rc('font', family='NanumBarunGothic')"
      ],
      "metadata": {
        "id": "2U-ZLWbJ4G7e"
      },
      "execution_count": null,
      "outputs": []
    },
    {
      "cell_type": "code",
      "source": [
        "# 코랩 구글 드라이브 연동\n",
        "from google.colab import drive\n",
        "drive.mount('/content/drive')"
      ],
      "metadata": {
        "id": "3I0oIJOK4SkV"
      },
      "execution_count": null,
      "outputs": []
    },
    {
      "cell_type": "code",
      "source": [
        "ROOT = '/content/drive/MyDrive/2022빅콘/data/'"
      ],
      "metadata": {
        "id": "NBo6X7QF4Sl5"
      },
      "execution_count": null,
      "outputs": []
    },
    {
      "cell_type": "code",
      "source": [
        "# 데이터 불러오기\n",
        "train = pd.read_csv(ROOT + '')\n",
        "valid = pd.read_csv(ROOT + '')"
      ],
      "metadata": {
        "id": "pSBqf2-T4Snw"
      },
      "execution_count": null,
      "outputs": []
    },
    {
      "cell_type": "code",
      "source": [
        "# 데이터 분할\n",
        "X_train = train.drop(['신청 여부(타겟)'], axis=1)\n",
        "y_train = train[['신청 여부(타겟)']]\n",
        "\n",
        "X_valid = valid.drop(['신청 여부(타겟)'], axis=1)\n",
        "y_valid = valid[['신청 여부(타겟)']]\n",
        "\n",
        "X_test = test.drop(['신청 여부(타겟)'], axis=1)\n",
        "y_test = test[['신청 여부(타겟)']]"
      ],
      "metadata": {
        "id": "DYRqkzNe4Spr"
      },
      "execution_count": null,
      "outputs": []
    },
    {
      "cell_type": "code",
      "source": [
        "# Voting Classifier\n",
        "VotingClassifier(estimators=[('rf',clf_rf),\n",
        "                             ('xgb',clf_xgb),\n",
        "                             ('catboost',clf_cat),\n",
        "                             ('lgbm',clf_lgbm),\n",
        "                             ('et',clf_et)])"
      ],
      "metadata": {
        "id": "f-_BBxNG4wdE"
      },
      "execution_count": null,
      "outputs": []
    },
    {
      "cell_type": "code",
      "source": [
        "RandomForestClassifier(bootstrap=True, ccp_alpha=0.0, class_weight=None,\n",
        "                       criterion='gini', max_depth=None, max_features='auto',\n",
        "                       max_leaf_nodes=None, max_samples=None,\n",
        "                       min_impurity_decrease=0.0, min_impurity_split=None,\n",
        "                       min_samples_leaf=1, min_samples_split=2,\n",
        "                       min_weight_fraction_leaf=0.0, n_estimators=100,\n",
        "                       n_jobs=-1, oob_score=False, random_state=42, verbose=0,\n",
        "                       warm_start=False)\n",
        "\n",
        "\n",
        "LGBMClassifier(bagging_fraction=0.7283211870996462, bagging_freq=5,\n",
        "               boosting_type='gbdt', class_weight=None, colsample_bytree=1.0,\n",
        "               feature_fraction=0.8601639377763195, importance_type='split',\n",
        "               learning_rate=0.09314704228715577, max_depth=-1,\n",
        "               min_child_samples=91, min_child_weight=0.001,\n",
        "               min_split_gain=0.44317785409769705, n_estimators=70, n_jobs=-1,\n",
        "               num_leaves=239, objective=None, random_state=42,\n",
        "               reg_alpha=1.329342606494723, reg_lambda=0.0012121985154727188,\n",
        "               silent='warn', subsample=1.0, subsample_for_bin=200000,\n",
        "               subsample_freq=0)\n",
        "\n",
        "ExtraTreesClassifier(bootstrap=False, ccp_alpha=0.0, class_weight=None,\n",
        "                     criterion='gini', max_depth=None, max_features='auto',\n",
        "                     max_leaf_nodes=None, max_samples=None,\n",
        "                     min_impurity_decrease=0.0, min_impurity_split=None,\n",
        "                     min_samples_leaf=1, min_samples_split=2,\n",
        "                     min_weight_fraction_leaf=0.0, n_estimators=100, n_jobs=-1,\n",
        "                     oob_score=False, random_state=42, verbose=0,\n",
        "                     warm_start=False)"
      ],
      "metadata": {
        "id": "uasDULdN4wfH"
      },
      "execution_count": null,
      "outputs": []
    },
    {
      "cell_type": "code",
      "source": [
        "XGBClassifier(base_score=0.5, booster='gbtree', callbacks=None,\n",
        "              colsample_bylevel=1, colsample_bynode=1, colsample_bytree=1,\n",
        "              early_stopping_rounds=None, enable_categorical=False,\n",
        "              eval_metric=None, gamma=0, gpu_id=0, grow_policy='depthwise',\n",
        "              importance_type=None, interaction_constraints='',\n",
        "              learning_rate=0.300000012, max_bin=256, max_cat_to_onehot=4,\n",
        "              max_delta_step=0, max_depth=6, max_leaves=0, min_child_weight=1,\n",
        "              missing=nan, monotone_constraints='()', n_estimators=100,\n",
        "              n_jobs=-1, num_parallel_tree=1, objective='binary:logistic',\n",
        "              predictor='auto', random_state=42, reg_alpha=0, ...)\n",
        "\n",
        "'nan_mode': 'Min',\n",
        " 'gpu_ram_part': 0.95,\n",
        " 'eval_metric': 'Logloss',\n",
        " 'iterations': 1000,\n",
        " 'leaf_estimation_method': 'Newton',\n",
        " 'observations_to_bootstrap': 'TestOnly',\n",
        " 'grow_policy': 'SymmetricTree',\n",
        " 'penalties_coefficient': 1,\n",
        " 'boosting_type': 'Plain',\n",
        " 'feature_border_type': 'GreedyLogSum',\n",
        " 'bayesian_matrix_reg': 0.10000000149011612,\n",
        " 'devices': '-1',\n",
        " 'eval_fraction': 0,\n",
        " 'pinned_memory_bytes': '104857600',\n",
        " 'force_unit_auto_pair_weights': False,\n",
        " 'l2_leaf_reg': 3,\n",
        " 'random_strength': 1,\n",
        " 'rsm': 1,\n",
        " 'boost_from_average': False,\n",
        " 'gpu_cat_features_storage': 'GpuRam',\n",
        " 'fold_size_loss_normalization': False,\n",
        " 'model_size_reg': 0.5,\n",
        " 'pool_metainfo_options': {'tags': {}},\n",
        " 'use_best_model': False,\n",
        " 'meta_l2_frequency': 0,\n",
        " 'class_names': [0, 1],\n",
        " 'random_seed': 42,\n",
        " 'depth': 6,\n",
        " 'border_count': 32,\n",
        " 'min_fold_size': 100,\n",
        " 'data_partition': 'DocParallel',\n",
        " 'bagging_temperature': 1,\n",
        " 'classes_count': 0,\n",
        " 'auto_class_weights': 'None',\n",
        " 'leaf_estimation_backtracking': 'AnyImprovement',\n",
        " 'best_model_min_trees': 1,\n",
        " 'min_data_in_leaf': 1,\n",
        " 'add_ridge_penalty_to_loss_function': False,\n",
        " 'loss_function': 'Logloss',\n",
        " 'learning_rate': 0.023750999942421913,\n",
        " 'meta_l2_exponent': 1,\n",
        " 'score_function': 'Cosine',\n",
        " 'task_type': 'GPU',\n",
        " 'leaf_estimation_iterations': 10,\n",
        " 'bootstrap_type': 'Bayesian',\n",
        " 'max_leaves': 64"
      ],
      "metadata": {
        "id": "m36ZgZ3s4G9N"
      },
      "execution_count": null,
      "outputs": []
    }
  ]
}