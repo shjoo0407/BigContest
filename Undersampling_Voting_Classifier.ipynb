{
  "nbformat": 4,
  "nbformat_minor": 0,
  "metadata": {
    "colab": {
      "provenance": [],
      "machine_shape": "hm"
    },
    "kernelspec": {
      "name": "python3",
      "display_name": "Python 3"
    },
    "language_info": {
      "name": "python"
    }
  },
  "cells": [
    {
      "cell_type": "markdown",
      "source": [
        "#### **데이터 불러오기**"
      ],
      "metadata": {
        "id": "LRFyPwJN4HSP"
      }
    },
    {
      "cell_type": "code",
      "execution_count": null,
      "metadata": {
        "id": "mp8K5Uxl4BjM"
      },
      "outputs": [],
      "source": [
        "# 메서드 불러오기\n",
        "import pandas as pd\n",
        "import numpy as np\n",
        "import matplotlib.pyplot as plt\n",
        "import seaborn as sns\n",
        "import datetime\n",
        "import time\n",
        "\n",
        "# Model\n",
        "from sklearn.ensemble import RandomForestClassifier\n",
        "from sklearn.ensemble import ExtraTreesClassifier\n",
        "# from xgboost import XGBClassifier\n",
        "from lightgbm import LGBMClassifier\n",
        "# from catboost import CatBoostClassifier\n",
        "\n",
        "# Voting\n",
        "from sklearn.ensemble import VotingClassifier\n",
        "\n",
        "\n",
        "from sklearn.model_selection import train_test_split\n",
        "from sklearn.preprocessing import MinMaxScaler\n",
        "\n",
        "# Metrics\n",
        "from sklearn.metrics import f1_score, confusion_matrix"
      ]
    },
    {
      "cell_type": "code",
      "source": [
        "plt.rc('font', family='NanumBarunGothic')"
      ],
      "metadata": {
        "id": "2U-ZLWbJ4G7e"
      },
      "execution_count": null,
      "outputs": []
    },
    {
      "cell_type": "code",
      "source": [
        "# 코랩 구글 드라이브 연동\n",
        "from google.colab import drive\n",
        "drive.mount('/content/drive')"
      ],
      "metadata": {
        "id": "3I0oIJOK4SkV",
        "colab": {
          "base_uri": "https://localhost:8080/"
        },
        "outputId": "790b73bd-8cae-4b16-a28b-9b4fb7aa6eb6"
      },
      "execution_count": null,
      "outputs": [
        {
          "output_type": "stream",
          "name": "stdout",
          "text": [
            "Mounted at /content/drive\n"
          ]
        }
      ]
    },
    {
      "cell_type": "code",
      "source": [
        "ROOT = '/content/drive/MyDrive/2022빅콘/data/'"
      ],
      "metadata": {
        "id": "NBo6X7QF4Sl5"
      },
      "execution_count": null,
      "outputs": []
    },
    {
      "cell_type": "code",
      "source": [
        "# 데이터 불러오기\n",
        "train = pd.read_csv(ROOT + 'Final/train_under.csv')\n",
        "valid = pd.read_csv(ROOT + 'Final/valid.csv')"
      ],
      "metadata": {
        "id": "pSBqf2-T4Snw"
      },
      "execution_count": null,
      "outputs": []
    },
    {
      "cell_type": "code",
      "source": [
        "train.drop(['신청서 번호','금융사 번호','상품 번호','유저 번호','생성일시'], axis=1, inplace=True)\n",
        "valid.drop(['신청서 번호','금융사 번호','상품 번호','유저 번호','생성일시'], axis=1, inplace=True)"
      ],
      "metadata": {
        "id": "13lXzJqRS2Qn"
      },
      "execution_count": null,
      "outputs": []
    },
    {
      "cell_type": "code",
      "source": [
        "train = pd.get_dummies(data=train, columns=['주거소유형태','대출목적','연령대'])\n",
        "valid = pd.get_dummies(data=valid, columns=['주거소유형태','대출목적','연령대'])"
      ],
      "metadata": {
        "id": "92VQCIhwTD53"
      },
      "execution_count": null,
      "outputs": []
    },
    {
      "cell_type": "code",
      "source": [
        "train_num = train[['추천 수','승인금리','승인한도','근속월수(로그)','연소득(boxcox)','신용점수(보완)','시간차(로그)','대출희망금액(boxcox)','기대출수(로그)','상품 누적 추천 수(로그)','조회 횟수(로그)']]\n",
        "valid_num = valid[['추천 수','승인금리','승인한도','근속월수(로그)','연소득(boxcox)','신용점수(보완)','시간차(로그)','대출희망금액(boxcox)','기대출수(로그)','상품 누적 추천 수(로그)','조회 횟수(로그)']] "
      ],
      "metadata": {
        "id": "K-cSatsJTUu8"
      },
      "execution_count": null,
      "outputs": []
    },
    {
      "cell_type": "code",
      "source": [
        "# MinMaxScaler\n",
        "Scaler = MinMaxScaler()\n",
        "\n",
        "train_num_mm = Scaler.fit_transform(train_num)\n",
        "valid_num_mm = Scaler.transform(valid_num)\n",
        "\n",
        "train_num_mm = pd.DataFrame(train_num_mm, columns=['추천 수','승인금리','승인한도','근속월수(로그)','연소득(boxcox)','신용점수(보완)','시간차(로그)','대출희망금액(boxcox)','기대출수(로그)','상품 누적 추천 수(로그)','조회 횟수(로그)'])\n",
        "valid_num_mm = pd.DataFrame(valid_num_mm, columns=['추천 수','승인금리','승인한도','근속월수(로그)','연소득(boxcox)','신용점수(보완)','시간차(로그)','대출희망금액(boxcox)','기대출수(로그)','상품 누적 추천 수(로그)','조회 횟수(로그)'])"
      ],
      "metadata": {
        "id": "CxhMwGAxTPv2"
      },
      "execution_count": null,
      "outputs": []
    },
    {
      "cell_type": "code",
      "source": [
        "train.drop(['추천 수','승인금리','승인한도','근속월수(로그)','연소득(boxcox)','신용점수(보완)','시간차(로그)','대출희망금액(boxcox)','기대출수(로그)','상품 누적 추천 수(로그)','조회 횟수(로그)'], axis=1, inplace=True)\n",
        "valid.drop(['추천 수','승인금리','승인한도','근속월수(로그)','연소득(boxcox)','신용점수(보완)','시간차(로그)','대출희망금액(boxcox)','기대출수(로그)','상품 누적 추천 수(로그)','조회 횟수(로그)'], axis=1, inplace=True)\n",
        "\n",
        "train = pd.concat([train, train_num_mm], axis=1)\n",
        "valid = pd.concat([valid, valid_num_mm], axis=1)"
      ],
      "metadata": {
        "id": "sLwAvCIcTEAc"
      },
      "execution_count": null,
      "outputs": []
    },
    {
      "cell_type": "code",
      "source": [
        "X_train = train.drop(['신청 여부(타겟)'], axis=1)\n",
        "y_train = train['신청 여부(타겟)']\n",
        "\n",
        "X_valid = valid.drop(['신청 여부(타겟)'], axis=1)\n",
        "y_valid = valid['신청 여부(타겟)']"
      ],
      "metadata": {
        "id": "WiJqAqLQT4oH"
      },
      "execution_count": null,
      "outputs": []
    },
    {
      "cell_type": "markdown",
      "source": [
        " min_impurity_split=None,"
      ],
      "metadata": {
        "id": "-f5dsClNVqjs"
      }
    },
    {
      "cell_type": "code",
      "source": [
        "# Voting Classifier\n",
        "voting_c =  VotingClassifier(estimators=[('rf',RandomForestClassifier(bootstrap=True, ccp_alpha=0.0, class_weight=None,\n",
        "                                                                      criterion='gini', max_depth=None, max_features='auto',\n",
        "                                                                      max_leaf_nodes=None, max_samples=None,\n",
        "                                                                      min_impurity_decrease=0.0,\n",
        "                                                                      min_samples_leaf=1, min_samples_split=2,\n",
        "                                                                      min_weight_fraction_leaf=0.0, n_estimators=100,\n",
        "                                                                      n_jobs=-1, oob_score=False, random_state=42, verbose=0,\n",
        "                                                                      warm_start=False)),\n",
        "                                         ('lgbm',LGBMClassifier(bagging_fraction=0.7283211870996462, bagging_freq=5,\n",
        "                                                                boosting_type='gbdt', class_weight=None, colsample_bytree=1.0,\n",
        "                                                                feature_fraction=0.8601639377763195, importance_type='split',\n",
        "                                                                learning_rate=0.09314704228715577, max_depth=-1,\n",
        "                                                                min_child_samples=91, min_child_weight=0.001,\n",
        "                                                                min_split_gain=0.44317785409769705, n_estimators=70, n_jobs=-1,\n",
        "                                                                num_leaves=239, objective=None, random_state=42,\n",
        "                                                                reg_alpha=1.329342606494723, reg_lambda=0.0012121985154727188,\n",
        "                                                                silent='warn', subsample=1.0, subsample_for_bin=200000,\n",
        "                                                                subsample_freq=0)),\n",
        "                                         ('et',ExtraTreesClassifier(bootstrap=False, ccp_alpha=0.0, class_weight=None,\n",
        "                                                                    criterion='gini', max_depth=None, max_features='auto',\n",
        "                                                                    max_leaf_nodes=None, max_samples=None,\n",
        "                                                                    min_impurity_decrease=0.0,\n",
        "                                                                    min_samples_leaf=1, min_samples_split=2,\n",
        "                                                                    min_weight_fraction_leaf=0.0, n_estimators=100, n_jobs=-1,\n",
        "                                                                    oob_score=False, random_state=42, verbose=0,\n",
        "                                                                    warm_start=False))],\n",
        "                             voting='soft')"
      ],
      "metadata": {
        "id": "f-_BBxNG4wdE"
      },
      "execution_count": null,
      "outputs": []
    },
    {
      "cell_type": "code",
      "source": [
        "# Voting Classifier\n",
        "voting_h =  VotingClassifier(estimators=[('rf',RandomForestClassifier(bootstrap=True, ccp_alpha=0.0, class_weight=None,\n",
        "                                                                      criterion='gini', max_depth=None, max_features='auto',\n",
        "                                                                      max_leaf_nodes=None, max_samples=None,\n",
        "                                                                      min_impurity_decrease=0.0,\n",
        "                                                                      min_samples_leaf=1, min_samples_split=2,\n",
        "                                                                      min_weight_fraction_leaf=0.0, n_estimators=100,\n",
        "                                                                      n_jobs=-1, oob_score=False, random_state=42, verbose=0,\n",
        "                                                                      warm_start=False)),\n",
        "                                         ('lgbm',LGBMClassifier(bagging_fraction=0.7283211870996462, bagging_freq=5,\n",
        "                                                                boosting_type='gbdt', class_weight=None, colsample_bytree=1.0,\n",
        "                                                                feature_fraction=0.8601639377763195, importance_type='split',\n",
        "                                                                learning_rate=0.09314704228715577, max_depth=-1,\n",
        "                                                                min_child_samples=91, min_child_weight=0.001,\n",
        "                                                                min_split_gain=0.44317785409769705, n_estimators=70, n_jobs=-1,\n",
        "                                                                num_leaves=239, objective=None, random_state=42,\n",
        "                                                                reg_alpha=1.329342606494723, reg_lambda=0.0012121985154727188,\n",
        "                                                                silent='warn', subsample=1.0, subsample_for_bin=200000,\n",
        "                                                                subsample_freq=0)),\n",
        "                                         ('et',ExtraTreesClassifier(bootstrap=False, ccp_alpha=0.0, class_weight=None,\n",
        "                                                                    criterion='gini', max_depth=None, max_features='auto',\n",
        "                                                                    max_leaf_nodes=None, max_samples=None,\n",
        "                                                                    min_impurity_decrease=0.0,\n",
        "                                                                    min_samples_leaf=1, min_samples_split=2,\n",
        "                                                                    min_weight_fraction_leaf=0.0, n_estimators=100, n_jobs=-1,\n",
        "                                                                    oob_score=False, random_state=42, verbose=0,\n",
        "                                                                    warm_start=False))],\n",
        "                             voting='hard')"
      ],
      "metadata": {
        "id": "-OWNKd7EXXkb"
      },
      "execution_count": null,
      "outputs": []
    },
    {
      "cell_type": "code",
      "source": [
        "voting_c.fit(X_train, y_train)"
      ],
      "metadata": {
        "colab": {
          "base_uri": "https://localhost:8080/"
        },
        "id": "BCURIdNzVdtL",
        "outputId": "da66fa93-c00b-4a49-b024-970c9cec1b42"
      },
      "execution_count": null,
      "outputs": [
        {
          "output_type": "stream",
          "name": "stderr",
          "text": [
            "/usr/local/lib/python3.7/dist-packages/sklearn/preprocessing/_label.py:98: DataConversionWarning: A column-vector y was passed when a 1d array was expected. Please change the shape of y to (n_samples, ), for example using ravel().\n",
            "  y = column_or_1d(y, warn=True)\n",
            "/usr/local/lib/python3.7/dist-packages/sklearn/preprocessing/_label.py:133: DataConversionWarning: A column-vector y was passed when a 1d array was expected. Please change the shape of y to (n_samples, ), for example using ravel().\n",
            "  y = column_or_1d(y, warn=True)\n"
          ]
        },
        {
          "output_type": "execute_result",
          "data": {
            "text/plain": [
              "VotingClassifier(estimators=[('rf',\n",
              "                              RandomForestClassifier(n_jobs=-1,\n",
              "                                                     random_state=42)),\n",
              "                             ('lgbm',\n",
              "                              LGBMClassifier(bagging_fraction=0.7283211870996462,\n",
              "                                             bagging_freq=5,\n",
              "                                             feature_fraction=0.8601639377763195,\n",
              "                                             learning_rate=0.09314704228715577,\n",
              "                                             min_child_samples=91,\n",
              "                                             min_split_gain=0.44317785409769705,\n",
              "                                             n_estimators=70, num_leaves=239,\n",
              "                                             random_state=42,\n",
              "                                             reg_alpha=1.329342606494723,\n",
              "                                             reg_lambda=0.0012121985154727188,\n",
              "                                             silent='warn')),\n",
              "                             ('et',\n",
              "                              ExtraTreesClassifier(n_jobs=-1,\n",
              "                                                   random_state=42))],\n",
              "                 voting='soft')"
            ]
          },
          "metadata": {},
          "execution_count": 12
        }
      ]
    },
    {
      "cell_type": "code",
      "source": [
        "y_pred = voting_c.predict(X_valid)"
      ],
      "metadata": {
        "id": "FugCtHktUmmO"
      },
      "execution_count": null,
      "outputs": []
    },
    {
      "cell_type": "code",
      "source": [
        "y_pred"
      ],
      "metadata": {
        "colab": {
          "base_uri": "https://localhost:8080/"
        },
        "id": "Gzt87ochWfl4",
        "outputId": "ee92deef-79e7-44b5-c5ba-26daf7ab075d"
      },
      "execution_count": null,
      "outputs": [
        {
          "output_type": "execute_result",
          "data": {
            "text/plain": [
              "array([1., 0., 0., ..., 0., 0., 0.])"
            ]
          },
          "metadata": {},
          "execution_count": 14
        }
      ]
    },
    {
      "cell_type": "code",
      "source": [
        "f1_score(y_valid, y_pred)"
      ],
      "metadata": {
        "colab": {
          "base_uri": "https://localhost:8080/"
        },
        "id": "lxlXjAXEUque",
        "outputId": "c73e8ac2-a853-435c-e055-2d47c4bffa9c"
      },
      "execution_count": null,
      "outputs": [
        {
          "output_type": "execute_result",
          "data": {
            "text/plain": [
              "0.3346596807217658"
            ]
          },
          "metadata": {},
          "execution_count": 15
        }
      ]
    },
    {
      "cell_type": "code",
      "source": [
        "confusion_matrix(y_valid, y_pred)"
      ],
      "metadata": {
        "colab": {
          "base_uri": "https://localhost:8080/"
        },
        "id": "x6ViK1zmYXiQ",
        "outputId": "3992fc07-8e56-4f1c-dc8b-8e5cf7372d9e"
      },
      "execution_count": null,
      "outputs": [
        {
          "output_type": "execute_result",
          "data": {
            "text/plain": [
              "array([[1955671,  471747],\n",
              "       [  16008,  122668]])"
            ]
          },
          "metadata": {},
          "execution_count": 16
        }
      ]
    },
    {
      "cell_type": "code",
      "source": [
        "data = pd.read_csv(ROOT + 'Dataset.csv')"
      ],
      "metadata": {
        "id": "0c2dsd7A8z8W"
      },
      "execution_count": null,
      "outputs": []
    },
    {
      "cell_type": "code",
      "source": [
        "submit = pd.read_csv(ROOT + '데이터분석분야_퓨처스부문_평가데이터11.csv')"
      ],
      "metadata": {
        "id": "F-Yh_kXK9q0r"
      },
      "execution_count": null,
      "outputs": []
    },
    {
      "cell_type": "code",
      "source": [
        "submit['신청 여부(타겟)'] = 0"
      ],
      "metadata": {
        "id": "vnWJI5b7_XmF"
      },
      "execution_count": null,
      "outputs": []
    },
    {
      "cell_type": "code",
      "source": [
        "submit.columns = ['신청서 번호','상품 번호','신청 여부(타겟)']"
      ],
      "metadata": {
        "id": "KG9Ppi9p9h8o"
      },
      "execution_count": null,
      "outputs": []
    },
    {
      "cell_type": "code",
      "source": [
        "test = data[data['신청 여부(타겟)'].isna()]"
      ],
      "metadata": {
        "id": "_UQ8rbSGAGJf"
      },
      "execution_count": null,
      "outputs": []
    },
    {
      "cell_type": "code",
      "source": [
        "test.isna().sum()"
      ],
      "metadata": {
        "colab": {
          "base_uri": "https://localhost:8080/"
        },
        "id": "KeUM-GKUAG-L",
        "outputId": "fe12cafa-a1b8-450d-9102-2960153e2b87"
      },
      "execution_count": null,
      "outputs": [
        {
          "output_type": "execute_result",
          "data": {
            "text/plain": [
              "신청서 번호                  0\n",
              "금융사 번호                  0\n",
              "상품 번호                   0\n",
              "신청 여부(타겟)         3255466\n",
              "유저 번호                   0\n",
              "생성일시                    0\n",
              "추천 수                    0\n",
              "승인금리                    0\n",
              "승인한도                    0\n",
              "근속월수(로그)                0\n",
              "연소득(boxcox)             0\n",
              "신용점수(보완)                0\n",
              "시간차(로그)                 0\n",
              "대출희망금액(boxcox)          0\n",
              "기대출수(로그)                0\n",
              "상품 누적 추천 수(로그)          0\n",
              "조회 횟수(로그)               0\n",
              "주거소유형태_기타가족소유           0\n",
              "주거소유형태_자가               0\n",
              "주거소유형태_전월세              0\n",
              "대출목적_기타                 0\n",
              "대출목적_대환대출               0\n",
              "대출목적_사업자금               0\n",
              "대출목적_생활비                0\n",
              "대출목적_자동차구입              0\n",
              "대출목적_전월세보증금             0\n",
              "대출목적_주택구입               0\n",
              "대출목적_투자                 0\n",
              "연령대_20대                 0\n",
              "연령대_30대                 0\n",
              "연령대_40대                 0\n",
              "연령대_50대                 0\n",
              "연령대_60대                 0\n",
              "연령대_70대                 0\n",
              "연령대_80대 이상              0\n",
              "연령대_알수없음                0\n",
              "dtype: int64"
            ]
          },
          "metadata": {},
          "execution_count": 46
        }
      ]
    },
    {
      "cell_type": "code",
      "source": [
        "test = pd.get_dummies(data=test, columns=['주거소유형태','대출목적','연령대'])"
      ],
      "metadata": {
        "id": "KMN9Ra_LAgHL"
      },
      "execution_count": null,
      "outputs": []
    },
    {
      "cell_type": "code",
      "source": [
        "test_num = test[['추천 수','승인금리','승인한도','근속월수(로그)','연소득(boxcox)','신용점수(보완)','시간차(로그)','대출희망금액(boxcox)','기대출수(로그)','상품 누적 추천 수(로그)','조회 횟수(로그)']] "
      ],
      "metadata": {
        "id": "wP1O2FPeAjW4"
      },
      "execution_count": null,
      "outputs": []
    },
    {
      "cell_type": "code",
      "source": [
        "test_num_mm = Scaler.transform(test_num)\n",
        "test_num_mm = pd.DataFrame(test_num_mm, columns=['추천 수','승인금리','승인한도','근속월수(로그)','연소득(boxcox)','신용점수(보완)','시간차(로그)','대출희망금액(boxcox)','기대출수(로그)','상품 누적 추천 수(로그)','조회 횟수(로그)'])"
      ],
      "metadata": {
        "id": "kIIbtvE3AkZb"
      },
      "execution_count": null,
      "outputs": []
    },
    {
      "cell_type": "code",
      "source": [
        "test.drop(['추천 수','승인금리','승인한도','근속월수(로그)','연소득(boxcox)','신용점수(보완)','시간차(로그)','대출희망금액(boxcox)','기대출수(로그)','상품 누적 추천 수(로그)','조회 횟수(로그)'], axis=1, inplace=True)"
      ],
      "metadata": {
        "id": "SeO7jIYtAt6l"
      },
      "execution_count": null,
      "outputs": []
    },
    {
      "cell_type": "code",
      "source": [
        "test.columns"
      ],
      "metadata": {
        "colab": {
          "base_uri": "https://localhost:8080/"
        },
        "id": "Y2_BWksgA3Hb",
        "outputId": "505b92c5-c807-4639-c9cd-d9870aad41df"
      },
      "execution_count": null,
      "outputs": [
        {
          "output_type": "execute_result",
          "data": {
            "text/plain": [
              "Index(['신청서 번호', '금융사 번호', '상품 번호', '신청 여부(타겟)', '유저 번호', '생성일시',\n",
              "       '주거소유형태_기타가족소유', '주거소유형태_자가', '주거소유형태_전월세', '대출목적_기타', '대출목적_대환대출',\n",
              "       '대출목적_사업자금', '대출목적_생활비', '대출목적_자동차구입', '대출목적_전월세보증금', '대출목적_주택구입',\n",
              "       '대출목적_투자', '연령대_20대', '연령대_30대', '연령대_40대', '연령대_50대', '연령대_60대',\n",
              "       '연령대_70대', '연령대_80대 이상', '연령대_알수없음'],\n",
              "      dtype='object')"
            ]
          },
          "metadata": {},
          "execution_count": 53
        }
      ]
    },
    {
      "cell_type": "code",
      "source": [
        "test.reset_index(drop=True, inplace=True)"
      ],
      "metadata": {
        "id": "cSJKzCdJBB33"
      },
      "execution_count": null,
      "outputs": []
    },
    {
      "cell_type": "code",
      "source": [
        "test = pd.concat([test, test_num_mm], axis=1)"
      ],
      "metadata": {
        "id": "1v-2sRRfAyn7"
      },
      "execution_count": null,
      "outputs": []
    },
    {
      "cell_type": "code",
      "source": [
        "submit_test = test[['신청서 번호','상품 번호','신청 여부(타겟)']]"
      ],
      "metadata": {
        "id": "WyX_vC7I9IRU"
      },
      "execution_count": null,
      "outputs": []
    },
    {
      "cell_type": "code",
      "source": [
        "submit_test"
      ],
      "metadata": {
        "colab": {
          "base_uri": "https://localhost:8080/",
          "height": 424
        },
        "id": "pAofes3w_gvB",
        "outputId": "75e25905-36f4-4efc-ef29-70aa51352c48"
      },
      "execution_count": null,
      "outputs": [
        {
          "output_type": "execute_result",
          "data": {
            "text/plain": [
              "          신청서 번호  상품 번호  신청 여부(타겟)\n",
              "0        1748340    191        NaN\n",
              "1        1748340    169        NaN\n",
              "2        1748340      7        NaN\n",
              "3        1748340    268        NaN\n",
              "4        1748340    118        NaN\n",
              "...          ...    ...        ...\n",
              "3255461  1428218    200        NaN\n",
              "3255462  1428218      7        NaN\n",
              "3255463  1428218    257        NaN\n",
              "3255464  1428218    110        NaN\n",
              "3255465  1428218    194        NaN\n",
              "\n",
              "[3255466 rows x 3 columns]"
            ],
            "text/html": [
              "\n",
              "  <div id=\"df-faf78081-0094-423f-9681-876511d19dc4\">\n",
              "    <div class=\"colab-df-container\">\n",
              "      <div>\n",
              "<style scoped>\n",
              "    .dataframe tbody tr th:only-of-type {\n",
              "        vertical-align: middle;\n",
              "    }\n",
              "\n",
              "    .dataframe tbody tr th {\n",
              "        vertical-align: top;\n",
              "    }\n",
              "\n",
              "    .dataframe thead th {\n",
              "        text-align: right;\n",
              "    }\n",
              "</style>\n",
              "<table border=\"1\" class=\"dataframe\">\n",
              "  <thead>\n",
              "    <tr style=\"text-align: right;\">\n",
              "      <th></th>\n",
              "      <th>신청서 번호</th>\n",
              "      <th>상품 번호</th>\n",
              "      <th>신청 여부(타겟)</th>\n",
              "    </tr>\n",
              "  </thead>\n",
              "  <tbody>\n",
              "    <tr>\n",
              "      <th>0</th>\n",
              "      <td>1748340</td>\n",
              "      <td>191</td>\n",
              "      <td>NaN</td>\n",
              "    </tr>\n",
              "    <tr>\n",
              "      <th>1</th>\n",
              "      <td>1748340</td>\n",
              "      <td>169</td>\n",
              "      <td>NaN</td>\n",
              "    </tr>\n",
              "    <tr>\n",
              "      <th>2</th>\n",
              "      <td>1748340</td>\n",
              "      <td>7</td>\n",
              "      <td>NaN</td>\n",
              "    </tr>\n",
              "    <tr>\n",
              "      <th>3</th>\n",
              "      <td>1748340</td>\n",
              "      <td>268</td>\n",
              "      <td>NaN</td>\n",
              "    </tr>\n",
              "    <tr>\n",
              "      <th>4</th>\n",
              "      <td>1748340</td>\n",
              "      <td>118</td>\n",
              "      <td>NaN</td>\n",
              "    </tr>\n",
              "    <tr>\n",
              "      <th>...</th>\n",
              "      <td>...</td>\n",
              "      <td>...</td>\n",
              "      <td>...</td>\n",
              "    </tr>\n",
              "    <tr>\n",
              "      <th>3255461</th>\n",
              "      <td>1428218</td>\n",
              "      <td>200</td>\n",
              "      <td>NaN</td>\n",
              "    </tr>\n",
              "    <tr>\n",
              "      <th>3255462</th>\n",
              "      <td>1428218</td>\n",
              "      <td>7</td>\n",
              "      <td>NaN</td>\n",
              "    </tr>\n",
              "    <tr>\n",
              "      <th>3255463</th>\n",
              "      <td>1428218</td>\n",
              "      <td>257</td>\n",
              "      <td>NaN</td>\n",
              "    </tr>\n",
              "    <tr>\n",
              "      <th>3255464</th>\n",
              "      <td>1428218</td>\n",
              "      <td>110</td>\n",
              "      <td>NaN</td>\n",
              "    </tr>\n",
              "    <tr>\n",
              "      <th>3255465</th>\n",
              "      <td>1428218</td>\n",
              "      <td>194</td>\n",
              "      <td>NaN</td>\n",
              "    </tr>\n",
              "  </tbody>\n",
              "</table>\n",
              "<p>3255466 rows × 3 columns</p>\n",
              "</div>\n",
              "      <button class=\"colab-df-convert\" onclick=\"convertToInteractive('df-faf78081-0094-423f-9681-876511d19dc4')\"\n",
              "              title=\"Convert this dataframe to an interactive table.\"\n",
              "              style=\"display:none;\">\n",
              "        \n",
              "  <svg xmlns=\"http://www.w3.org/2000/svg\" height=\"24px\"viewBox=\"0 0 24 24\"\n",
              "       width=\"24px\">\n",
              "    <path d=\"M0 0h24v24H0V0z\" fill=\"none\"/>\n",
              "    <path d=\"M18.56 5.44l.94 2.06.94-2.06 2.06-.94-2.06-.94-.94-2.06-.94 2.06-2.06.94zm-11 1L8.5 8.5l.94-2.06 2.06-.94-2.06-.94L8.5 2.5l-.94 2.06-2.06.94zm10 10l.94 2.06.94-2.06 2.06-.94-2.06-.94-.94-2.06-.94 2.06-2.06.94z\"/><path d=\"M17.41 7.96l-1.37-1.37c-.4-.4-.92-.59-1.43-.59-.52 0-1.04.2-1.43.59L10.3 9.45l-7.72 7.72c-.78.78-.78 2.05 0 2.83L4 21.41c.39.39.9.59 1.41.59.51 0 1.02-.2 1.41-.59l7.78-7.78 2.81-2.81c.8-.78.8-2.07 0-2.86zM5.41 20L4 18.59l7.72-7.72 1.47 1.35L5.41 20z\"/>\n",
              "  </svg>\n",
              "      </button>\n",
              "      \n",
              "  <style>\n",
              "    .colab-df-container {\n",
              "      display:flex;\n",
              "      flex-wrap:wrap;\n",
              "      gap: 12px;\n",
              "    }\n",
              "\n",
              "    .colab-df-convert {\n",
              "      background-color: #E8F0FE;\n",
              "      border: none;\n",
              "      border-radius: 50%;\n",
              "      cursor: pointer;\n",
              "      display: none;\n",
              "      fill: #1967D2;\n",
              "      height: 32px;\n",
              "      padding: 0 0 0 0;\n",
              "      width: 32px;\n",
              "    }\n",
              "\n",
              "    .colab-df-convert:hover {\n",
              "      background-color: #E2EBFA;\n",
              "      box-shadow: 0px 1px 2px rgba(60, 64, 67, 0.3), 0px 1px 3px 1px rgba(60, 64, 67, 0.15);\n",
              "      fill: #174EA6;\n",
              "    }\n",
              "\n",
              "    [theme=dark] .colab-df-convert {\n",
              "      background-color: #3B4455;\n",
              "      fill: #D2E3FC;\n",
              "    }\n",
              "\n",
              "    [theme=dark] .colab-df-convert:hover {\n",
              "      background-color: #434B5C;\n",
              "      box-shadow: 0px 1px 3px 1px rgba(0, 0, 0, 0.15);\n",
              "      filter: drop-shadow(0px 1px 2px rgba(0, 0, 0, 0.3));\n",
              "      fill: #FFFFFF;\n",
              "    }\n",
              "  </style>\n",
              "\n",
              "      <script>\n",
              "        const buttonEl =\n",
              "          document.querySelector('#df-faf78081-0094-423f-9681-876511d19dc4 button.colab-df-convert');\n",
              "        buttonEl.style.display =\n",
              "          google.colab.kernel.accessAllowed ? 'block' : 'none';\n",
              "\n",
              "        async function convertToInteractive(key) {\n",
              "          const element = document.querySelector('#df-faf78081-0094-423f-9681-876511d19dc4');\n",
              "          const dataTable =\n",
              "            await google.colab.kernel.invokeFunction('convertToInteractive',\n",
              "                                                     [key], {});\n",
              "          if (!dataTable) return;\n",
              "\n",
              "          const docLinkHtml = 'Like what you see? Visit the ' +\n",
              "            '<a target=\"_blank\" href=https://colab.research.google.com/notebooks/data_table.ipynb>data table notebook</a>'\n",
              "            + ' to learn more about interactive tables.';\n",
              "          element.innerHTML = '';\n",
              "          dataTable['output_type'] = 'display_data';\n",
              "          await google.colab.output.renderOutput(dataTable, element);\n",
              "          const docLink = document.createElement('div');\n",
              "          docLink.innerHTML = docLinkHtml;\n",
              "          element.appendChild(docLink);\n",
              "        }\n",
              "      </script>\n",
              "    </div>\n",
              "  </div>\n",
              "  "
            ]
          },
          "metadata": {},
          "execution_count": 66
        }
      ]
    },
    {
      "cell_type": "code",
      "source": [
        "X_test = test.drop(['신청 여부(타겟)','신청서 번호','금융사 번호','상품 번호','유저 번호','생성일시'], axis=1)\n",
        "y_test = test['신청 여부(타겟)']"
      ],
      "metadata": {
        "id": "pyfBeR6I9ITe"
      },
      "execution_count": null,
      "outputs": []
    },
    {
      "cell_type": "code",
      "source": [
        "# 최종 예측\n",
        "y_pred = voting_c.predict(X_test)"
      ],
      "metadata": {
        "id": "G2F_6OKB80Ed"
      },
      "execution_count": null,
      "outputs": []
    },
    {
      "cell_type": "code",
      "source": [
        "y_pred"
      ],
      "metadata": {
        "colab": {
          "base_uri": "https://localhost:8080/"
        },
        "id": "ucIdKRPmBb3N",
        "outputId": "a437e440-c1d3-4cdb-f17c-53989e576790"
      },
      "execution_count": null,
      "outputs": [
        {
          "output_type": "execute_result",
          "data": {
            "text/plain": [
              "array([0., 0., 0., ..., 0., 0., 1.])"
            ]
          },
          "metadata": {},
          "execution_count": 71
        }
      ]
    },
    {
      "cell_type": "code",
      "source": [
        "submit_test['신청 여부(타겟)'] = y_pred"
      ],
      "metadata": {
        "colab": {
          "base_uri": "https://localhost:8080/"
        },
        "id": "1zgNAgET9ZTh",
        "outputId": "45d26d55-48e3-41c3-c69a-5678bb11afb9"
      },
      "execution_count": null,
      "outputs": [
        {
          "output_type": "stream",
          "name": "stderr",
          "text": [
            "/usr/local/lib/python3.7/dist-packages/ipykernel_launcher.py:1: SettingWithCopyWarning: \n",
            "A value is trying to be set on a copy of a slice from a DataFrame.\n",
            "Try using .loc[row_indexer,col_indexer] = value instead\n",
            "\n",
            "See the caveats in the documentation: https://pandas.pydata.org/pandas-docs/stable/user_guide/indexing.html#returning-a-view-versus-a-copy\n",
            "  \"\"\"Entry point for launching an IPython kernel.\n"
          ]
        }
      ]
    },
    {
      "cell_type": "code",
      "source": [
        "submit_test"
      ],
      "metadata": {
        "colab": {
          "base_uri": "https://localhost:8080/",
          "height": 424
        },
        "id": "6IEmGfd39hm2",
        "outputId": "13116e8d-930d-4812-aaf6-4a9adcca9a40"
      },
      "execution_count": null,
      "outputs": [
        {
          "output_type": "execute_result",
          "data": {
            "text/plain": [
              "          신청서 번호  상품 번호  신청 여부(타겟)\n",
              "0        1748340    191        0.0\n",
              "1        1748340    169        0.0\n",
              "2        1748340      7        0.0\n",
              "3        1748340    268        1.0\n",
              "4        1748340    118        0.0\n",
              "...          ...    ...        ...\n",
              "3255461  1428218    200        0.0\n",
              "3255462  1428218      7        1.0\n",
              "3255463  1428218    257        0.0\n",
              "3255464  1428218    110        0.0\n",
              "3255465  1428218    194        1.0\n",
              "\n",
              "[3255466 rows x 3 columns]"
            ],
            "text/html": [
              "\n",
              "  <div id=\"df-dc527efd-5bca-45cb-b71b-33ddf6fda698\">\n",
              "    <div class=\"colab-df-container\">\n",
              "      <div>\n",
              "<style scoped>\n",
              "    .dataframe tbody tr th:only-of-type {\n",
              "        vertical-align: middle;\n",
              "    }\n",
              "\n",
              "    .dataframe tbody tr th {\n",
              "        vertical-align: top;\n",
              "    }\n",
              "\n",
              "    .dataframe thead th {\n",
              "        text-align: right;\n",
              "    }\n",
              "</style>\n",
              "<table border=\"1\" class=\"dataframe\">\n",
              "  <thead>\n",
              "    <tr style=\"text-align: right;\">\n",
              "      <th></th>\n",
              "      <th>신청서 번호</th>\n",
              "      <th>상품 번호</th>\n",
              "      <th>신청 여부(타겟)</th>\n",
              "    </tr>\n",
              "  </thead>\n",
              "  <tbody>\n",
              "    <tr>\n",
              "      <th>0</th>\n",
              "      <td>1748340</td>\n",
              "      <td>191</td>\n",
              "      <td>0.0</td>\n",
              "    </tr>\n",
              "    <tr>\n",
              "      <th>1</th>\n",
              "      <td>1748340</td>\n",
              "      <td>169</td>\n",
              "      <td>0.0</td>\n",
              "    </tr>\n",
              "    <tr>\n",
              "      <th>2</th>\n",
              "      <td>1748340</td>\n",
              "      <td>7</td>\n",
              "      <td>0.0</td>\n",
              "    </tr>\n",
              "    <tr>\n",
              "      <th>3</th>\n",
              "      <td>1748340</td>\n",
              "      <td>268</td>\n",
              "      <td>1.0</td>\n",
              "    </tr>\n",
              "    <tr>\n",
              "      <th>4</th>\n",
              "      <td>1748340</td>\n",
              "      <td>118</td>\n",
              "      <td>0.0</td>\n",
              "    </tr>\n",
              "    <tr>\n",
              "      <th>...</th>\n",
              "      <td>...</td>\n",
              "      <td>...</td>\n",
              "      <td>...</td>\n",
              "    </tr>\n",
              "    <tr>\n",
              "      <th>3255461</th>\n",
              "      <td>1428218</td>\n",
              "      <td>200</td>\n",
              "      <td>0.0</td>\n",
              "    </tr>\n",
              "    <tr>\n",
              "      <th>3255462</th>\n",
              "      <td>1428218</td>\n",
              "      <td>7</td>\n",
              "      <td>1.0</td>\n",
              "    </tr>\n",
              "    <tr>\n",
              "      <th>3255463</th>\n",
              "      <td>1428218</td>\n",
              "      <td>257</td>\n",
              "      <td>0.0</td>\n",
              "    </tr>\n",
              "    <tr>\n",
              "      <th>3255464</th>\n",
              "      <td>1428218</td>\n",
              "      <td>110</td>\n",
              "      <td>0.0</td>\n",
              "    </tr>\n",
              "    <tr>\n",
              "      <th>3255465</th>\n",
              "      <td>1428218</td>\n",
              "      <td>194</td>\n",
              "      <td>1.0</td>\n",
              "    </tr>\n",
              "  </tbody>\n",
              "</table>\n",
              "<p>3255466 rows × 3 columns</p>\n",
              "</div>\n",
              "      <button class=\"colab-df-convert\" onclick=\"convertToInteractive('df-dc527efd-5bca-45cb-b71b-33ddf6fda698')\"\n",
              "              title=\"Convert this dataframe to an interactive table.\"\n",
              "              style=\"display:none;\">\n",
              "        \n",
              "  <svg xmlns=\"http://www.w3.org/2000/svg\" height=\"24px\"viewBox=\"0 0 24 24\"\n",
              "       width=\"24px\">\n",
              "    <path d=\"M0 0h24v24H0V0z\" fill=\"none\"/>\n",
              "    <path d=\"M18.56 5.44l.94 2.06.94-2.06 2.06-.94-2.06-.94-.94-2.06-.94 2.06-2.06.94zm-11 1L8.5 8.5l.94-2.06 2.06-.94-2.06-.94L8.5 2.5l-.94 2.06-2.06.94zm10 10l.94 2.06.94-2.06 2.06-.94-2.06-.94-.94-2.06-.94 2.06-2.06.94z\"/><path d=\"M17.41 7.96l-1.37-1.37c-.4-.4-.92-.59-1.43-.59-.52 0-1.04.2-1.43.59L10.3 9.45l-7.72 7.72c-.78.78-.78 2.05 0 2.83L4 21.41c.39.39.9.59 1.41.59.51 0 1.02-.2 1.41-.59l7.78-7.78 2.81-2.81c.8-.78.8-2.07 0-2.86zM5.41 20L4 18.59l7.72-7.72 1.47 1.35L5.41 20z\"/>\n",
              "  </svg>\n",
              "      </button>\n",
              "      \n",
              "  <style>\n",
              "    .colab-df-container {\n",
              "      display:flex;\n",
              "      flex-wrap:wrap;\n",
              "      gap: 12px;\n",
              "    }\n",
              "\n",
              "    .colab-df-convert {\n",
              "      background-color: #E8F0FE;\n",
              "      border: none;\n",
              "      border-radius: 50%;\n",
              "      cursor: pointer;\n",
              "      display: none;\n",
              "      fill: #1967D2;\n",
              "      height: 32px;\n",
              "      padding: 0 0 0 0;\n",
              "      width: 32px;\n",
              "    }\n",
              "\n",
              "    .colab-df-convert:hover {\n",
              "      background-color: #E2EBFA;\n",
              "      box-shadow: 0px 1px 2px rgba(60, 64, 67, 0.3), 0px 1px 3px 1px rgba(60, 64, 67, 0.15);\n",
              "      fill: #174EA6;\n",
              "    }\n",
              "\n",
              "    [theme=dark] .colab-df-convert {\n",
              "      background-color: #3B4455;\n",
              "      fill: #D2E3FC;\n",
              "    }\n",
              "\n",
              "    [theme=dark] .colab-df-convert:hover {\n",
              "      background-color: #434B5C;\n",
              "      box-shadow: 0px 1px 3px 1px rgba(0, 0, 0, 0.15);\n",
              "      filter: drop-shadow(0px 1px 2px rgba(0, 0, 0, 0.3));\n",
              "      fill: #FFFFFF;\n",
              "    }\n",
              "  </style>\n",
              "\n",
              "      <script>\n",
              "        const buttonEl =\n",
              "          document.querySelector('#df-dc527efd-5bca-45cb-b71b-33ddf6fda698 button.colab-df-convert');\n",
              "        buttonEl.style.display =\n",
              "          google.colab.kernel.accessAllowed ? 'block' : 'none';\n",
              "\n",
              "        async function convertToInteractive(key) {\n",
              "          const element = document.querySelector('#df-dc527efd-5bca-45cb-b71b-33ddf6fda698');\n",
              "          const dataTable =\n",
              "            await google.colab.kernel.invokeFunction('convertToInteractive',\n",
              "                                                     [key], {});\n",
              "          if (!dataTable) return;\n",
              "\n",
              "          const docLinkHtml = 'Like what you see? Visit the ' +\n",
              "            '<a target=\"_blank\" href=https://colab.research.google.com/notebooks/data_table.ipynb>data table notebook</a>'\n",
              "            + ' to learn more about interactive tables.';\n",
              "          element.innerHTML = '';\n",
              "          dataTable['output_type'] = 'display_data';\n",
              "          await google.colab.output.renderOutput(dataTable, element);\n",
              "          const docLink = document.createElement('div');\n",
              "          docLink.innerHTML = docLinkHtml;\n",
              "          element.appendChild(docLink);\n",
              "        }\n",
              "      </script>\n",
              "    </div>\n",
              "  </div>\n",
              "  "
            ]
          },
          "metadata": {},
          "execution_count": 73
        }
      ]
    },
    {
      "cell_type": "code",
      "source": [
        "submit"
      ],
      "metadata": {
        "colab": {
          "base_uri": "https://localhost:8080/",
          "height": 424
        },
        "id": "MchJr0Sj9ZVn",
        "outputId": "4ab3d27b-b5c1-4cb5-9026-03ada4293c51"
      },
      "execution_count": null,
      "outputs": [
        {
          "output_type": "execute_result",
          "data": {
            "text/plain": [
              "         신청서 번호  상품 번호  신청 여부(타겟)\n",
              "0             4    220          0\n",
              "1             4    191          0\n",
              "2             8     29          0\n",
              "3             8    159          0\n",
              "4             8     85          0\n",
              "...         ...    ...        ...\n",
              "1048570  697978    205          0\n",
              "1048571  697980    206          0\n",
              "1048572  697980    140          0\n",
              "1048573  697980    263          0\n",
              "1048574  697980    141          0\n",
              "\n",
              "[1048575 rows x 3 columns]"
            ],
            "text/html": [
              "\n",
              "  <div id=\"df-5f769298-4487-4e96-8442-65a92b1e16b0\">\n",
              "    <div class=\"colab-df-container\">\n",
              "      <div>\n",
              "<style scoped>\n",
              "    .dataframe tbody tr th:only-of-type {\n",
              "        vertical-align: middle;\n",
              "    }\n",
              "\n",
              "    .dataframe tbody tr th {\n",
              "        vertical-align: top;\n",
              "    }\n",
              "\n",
              "    .dataframe thead th {\n",
              "        text-align: right;\n",
              "    }\n",
              "</style>\n",
              "<table border=\"1\" class=\"dataframe\">\n",
              "  <thead>\n",
              "    <tr style=\"text-align: right;\">\n",
              "      <th></th>\n",
              "      <th>신청서 번호</th>\n",
              "      <th>상품 번호</th>\n",
              "      <th>신청 여부(타겟)</th>\n",
              "    </tr>\n",
              "  </thead>\n",
              "  <tbody>\n",
              "    <tr>\n",
              "      <th>0</th>\n",
              "      <td>4</td>\n",
              "      <td>220</td>\n",
              "      <td>0</td>\n",
              "    </tr>\n",
              "    <tr>\n",
              "      <th>1</th>\n",
              "      <td>4</td>\n",
              "      <td>191</td>\n",
              "      <td>0</td>\n",
              "    </tr>\n",
              "    <tr>\n",
              "      <th>2</th>\n",
              "      <td>8</td>\n",
              "      <td>29</td>\n",
              "      <td>0</td>\n",
              "    </tr>\n",
              "    <tr>\n",
              "      <th>3</th>\n",
              "      <td>8</td>\n",
              "      <td>159</td>\n",
              "      <td>0</td>\n",
              "    </tr>\n",
              "    <tr>\n",
              "      <th>4</th>\n",
              "      <td>8</td>\n",
              "      <td>85</td>\n",
              "      <td>0</td>\n",
              "    </tr>\n",
              "    <tr>\n",
              "      <th>...</th>\n",
              "      <td>...</td>\n",
              "      <td>...</td>\n",
              "      <td>...</td>\n",
              "    </tr>\n",
              "    <tr>\n",
              "      <th>1048570</th>\n",
              "      <td>697978</td>\n",
              "      <td>205</td>\n",
              "      <td>0</td>\n",
              "    </tr>\n",
              "    <tr>\n",
              "      <th>1048571</th>\n",
              "      <td>697980</td>\n",
              "      <td>206</td>\n",
              "      <td>0</td>\n",
              "    </tr>\n",
              "    <tr>\n",
              "      <th>1048572</th>\n",
              "      <td>697980</td>\n",
              "      <td>140</td>\n",
              "      <td>0</td>\n",
              "    </tr>\n",
              "    <tr>\n",
              "      <th>1048573</th>\n",
              "      <td>697980</td>\n",
              "      <td>263</td>\n",
              "      <td>0</td>\n",
              "    </tr>\n",
              "    <tr>\n",
              "      <th>1048574</th>\n",
              "      <td>697980</td>\n",
              "      <td>141</td>\n",
              "      <td>0</td>\n",
              "    </tr>\n",
              "  </tbody>\n",
              "</table>\n",
              "<p>1048575 rows × 3 columns</p>\n",
              "</div>\n",
              "      <button class=\"colab-df-convert\" onclick=\"convertToInteractive('df-5f769298-4487-4e96-8442-65a92b1e16b0')\"\n",
              "              title=\"Convert this dataframe to an interactive table.\"\n",
              "              style=\"display:none;\">\n",
              "        \n",
              "  <svg xmlns=\"http://www.w3.org/2000/svg\" height=\"24px\"viewBox=\"0 0 24 24\"\n",
              "       width=\"24px\">\n",
              "    <path d=\"M0 0h24v24H0V0z\" fill=\"none\"/>\n",
              "    <path d=\"M18.56 5.44l.94 2.06.94-2.06 2.06-.94-2.06-.94-.94-2.06-.94 2.06-2.06.94zm-11 1L8.5 8.5l.94-2.06 2.06-.94-2.06-.94L8.5 2.5l-.94 2.06-2.06.94zm10 10l.94 2.06.94-2.06 2.06-.94-2.06-.94-.94-2.06-.94 2.06-2.06.94z\"/><path d=\"M17.41 7.96l-1.37-1.37c-.4-.4-.92-.59-1.43-.59-.52 0-1.04.2-1.43.59L10.3 9.45l-7.72 7.72c-.78.78-.78 2.05 0 2.83L4 21.41c.39.39.9.59 1.41.59.51 0 1.02-.2 1.41-.59l7.78-7.78 2.81-2.81c.8-.78.8-2.07 0-2.86zM5.41 20L4 18.59l7.72-7.72 1.47 1.35L5.41 20z\"/>\n",
              "  </svg>\n",
              "      </button>\n",
              "      \n",
              "  <style>\n",
              "    .colab-df-container {\n",
              "      display:flex;\n",
              "      flex-wrap:wrap;\n",
              "      gap: 12px;\n",
              "    }\n",
              "\n",
              "    .colab-df-convert {\n",
              "      background-color: #E8F0FE;\n",
              "      border: none;\n",
              "      border-radius: 50%;\n",
              "      cursor: pointer;\n",
              "      display: none;\n",
              "      fill: #1967D2;\n",
              "      height: 32px;\n",
              "      padding: 0 0 0 0;\n",
              "      width: 32px;\n",
              "    }\n",
              "\n",
              "    .colab-df-convert:hover {\n",
              "      background-color: #E2EBFA;\n",
              "      box-shadow: 0px 1px 2px rgba(60, 64, 67, 0.3), 0px 1px 3px 1px rgba(60, 64, 67, 0.15);\n",
              "      fill: #174EA6;\n",
              "    }\n",
              "\n",
              "    [theme=dark] .colab-df-convert {\n",
              "      background-color: #3B4455;\n",
              "      fill: #D2E3FC;\n",
              "    }\n",
              "\n",
              "    [theme=dark] .colab-df-convert:hover {\n",
              "      background-color: #434B5C;\n",
              "      box-shadow: 0px 1px 3px 1px rgba(0, 0, 0, 0.15);\n",
              "      filter: drop-shadow(0px 1px 2px rgba(0, 0, 0, 0.3));\n",
              "      fill: #FFFFFF;\n",
              "    }\n",
              "  </style>\n",
              "\n",
              "      <script>\n",
              "        const buttonEl =\n",
              "          document.querySelector('#df-5f769298-4487-4e96-8442-65a92b1e16b0 button.colab-df-convert');\n",
              "        buttonEl.style.display =\n",
              "          google.colab.kernel.accessAllowed ? 'block' : 'none';\n",
              "\n",
              "        async function convertToInteractive(key) {\n",
              "          const element = document.querySelector('#df-5f769298-4487-4e96-8442-65a92b1e16b0');\n",
              "          const dataTable =\n",
              "            await google.colab.kernel.invokeFunction('convertToInteractive',\n",
              "                                                     [key], {});\n",
              "          if (!dataTable) return;\n",
              "\n",
              "          const docLinkHtml = 'Like what you see? Visit the ' +\n",
              "            '<a target=\"_blank\" href=https://colab.research.google.com/notebooks/data_table.ipynb>data table notebook</a>'\n",
              "            + ' to learn more about interactive tables.';\n",
              "          element.innerHTML = '';\n",
              "          dataTable['output_type'] = 'display_data';\n",
              "          await google.colab.output.renderOutput(dataTable, element);\n",
              "          const docLink = document.createElement('div');\n",
              "          docLink.innerHTML = docLinkHtml;\n",
              "          element.appendChild(docLink);\n",
              "        }\n",
              "      </script>\n",
              "    </div>\n",
              "  </div>\n",
              "  "
            ]
          },
          "metadata": {},
          "execution_count": 74
        }
      ]
    },
    {
      "cell_type": "code",
      "source": [
        "real_submit = pd.merge(submit, submit_test, on=['신청서 번호','상품 번호']).drop(['신청 여부(타겟)_x'], axis=1)\n",
        "real_submit.columns = ['신청서 번호','상품 번호','신청 여부(타겟)']\n",
        "real_submit"
      ],
      "metadata": {
        "colab": {
          "base_uri": "https://localhost:8080/",
          "height": 424
        },
        "id": "5S9gM5JTB4kx",
        "outputId": "0b8dc093-3934-4bb2-9812-114fa3d6b25c"
      },
      "execution_count": null,
      "outputs": [
        {
          "output_type": "execute_result",
          "data": {
            "text/plain": [
              "         신청서 번호  상품 번호  신청 여부(타겟)\n",
              "0             4    220        1.0\n",
              "1             4    191        1.0\n",
              "2             8     29        1.0\n",
              "3             8    159        1.0\n",
              "4             8     85        1.0\n",
              "...         ...    ...        ...\n",
              "1048570  697978    205        1.0\n",
              "1048571  697980    206        0.0\n",
              "1048572  697980    140        1.0\n",
              "1048573  697980    263        0.0\n",
              "1048574  697980    141        0.0\n",
              "\n",
              "[1048575 rows x 3 columns]"
            ],
            "text/html": [
              "\n",
              "  <div id=\"df-3c806ae9-032e-4da7-9dd1-91c62665748d\">\n",
              "    <div class=\"colab-df-container\">\n",
              "      <div>\n",
              "<style scoped>\n",
              "    .dataframe tbody tr th:only-of-type {\n",
              "        vertical-align: middle;\n",
              "    }\n",
              "\n",
              "    .dataframe tbody tr th {\n",
              "        vertical-align: top;\n",
              "    }\n",
              "\n",
              "    .dataframe thead th {\n",
              "        text-align: right;\n",
              "    }\n",
              "</style>\n",
              "<table border=\"1\" class=\"dataframe\">\n",
              "  <thead>\n",
              "    <tr style=\"text-align: right;\">\n",
              "      <th></th>\n",
              "      <th>신청서 번호</th>\n",
              "      <th>상품 번호</th>\n",
              "      <th>신청 여부(타겟)</th>\n",
              "    </tr>\n",
              "  </thead>\n",
              "  <tbody>\n",
              "    <tr>\n",
              "      <th>0</th>\n",
              "      <td>4</td>\n",
              "      <td>220</td>\n",
              "      <td>1.0</td>\n",
              "    </tr>\n",
              "    <tr>\n",
              "      <th>1</th>\n",
              "      <td>4</td>\n",
              "      <td>191</td>\n",
              "      <td>1.0</td>\n",
              "    </tr>\n",
              "    <tr>\n",
              "      <th>2</th>\n",
              "      <td>8</td>\n",
              "      <td>29</td>\n",
              "      <td>1.0</td>\n",
              "    </tr>\n",
              "    <tr>\n",
              "      <th>3</th>\n",
              "      <td>8</td>\n",
              "      <td>159</td>\n",
              "      <td>1.0</td>\n",
              "    </tr>\n",
              "    <tr>\n",
              "      <th>4</th>\n",
              "      <td>8</td>\n",
              "      <td>85</td>\n",
              "      <td>1.0</td>\n",
              "    </tr>\n",
              "    <tr>\n",
              "      <th>...</th>\n",
              "      <td>...</td>\n",
              "      <td>...</td>\n",
              "      <td>...</td>\n",
              "    </tr>\n",
              "    <tr>\n",
              "      <th>1048570</th>\n",
              "      <td>697978</td>\n",
              "      <td>205</td>\n",
              "      <td>1.0</td>\n",
              "    </tr>\n",
              "    <tr>\n",
              "      <th>1048571</th>\n",
              "      <td>697980</td>\n",
              "      <td>206</td>\n",
              "      <td>0.0</td>\n",
              "    </tr>\n",
              "    <tr>\n",
              "      <th>1048572</th>\n",
              "      <td>697980</td>\n",
              "      <td>140</td>\n",
              "      <td>1.0</td>\n",
              "    </tr>\n",
              "    <tr>\n",
              "      <th>1048573</th>\n",
              "      <td>697980</td>\n",
              "      <td>263</td>\n",
              "      <td>0.0</td>\n",
              "    </tr>\n",
              "    <tr>\n",
              "      <th>1048574</th>\n",
              "      <td>697980</td>\n",
              "      <td>141</td>\n",
              "      <td>0.0</td>\n",
              "    </tr>\n",
              "  </tbody>\n",
              "</table>\n",
              "<p>1048575 rows × 3 columns</p>\n",
              "</div>\n",
              "      <button class=\"colab-df-convert\" onclick=\"convertToInteractive('df-3c806ae9-032e-4da7-9dd1-91c62665748d')\"\n",
              "              title=\"Convert this dataframe to an interactive table.\"\n",
              "              style=\"display:none;\">\n",
              "        \n",
              "  <svg xmlns=\"http://www.w3.org/2000/svg\" height=\"24px\"viewBox=\"0 0 24 24\"\n",
              "       width=\"24px\">\n",
              "    <path d=\"M0 0h24v24H0V0z\" fill=\"none\"/>\n",
              "    <path d=\"M18.56 5.44l.94 2.06.94-2.06 2.06-.94-2.06-.94-.94-2.06-.94 2.06-2.06.94zm-11 1L8.5 8.5l.94-2.06 2.06-.94-2.06-.94L8.5 2.5l-.94 2.06-2.06.94zm10 10l.94 2.06.94-2.06 2.06-.94-2.06-.94-.94-2.06-.94 2.06-2.06.94z\"/><path d=\"M17.41 7.96l-1.37-1.37c-.4-.4-.92-.59-1.43-.59-.52 0-1.04.2-1.43.59L10.3 9.45l-7.72 7.72c-.78.78-.78 2.05 0 2.83L4 21.41c.39.39.9.59 1.41.59.51 0 1.02-.2 1.41-.59l7.78-7.78 2.81-2.81c.8-.78.8-2.07 0-2.86zM5.41 20L4 18.59l7.72-7.72 1.47 1.35L5.41 20z\"/>\n",
              "  </svg>\n",
              "      </button>\n",
              "      \n",
              "  <style>\n",
              "    .colab-df-container {\n",
              "      display:flex;\n",
              "      flex-wrap:wrap;\n",
              "      gap: 12px;\n",
              "    }\n",
              "\n",
              "    .colab-df-convert {\n",
              "      background-color: #E8F0FE;\n",
              "      border: none;\n",
              "      border-radius: 50%;\n",
              "      cursor: pointer;\n",
              "      display: none;\n",
              "      fill: #1967D2;\n",
              "      height: 32px;\n",
              "      padding: 0 0 0 0;\n",
              "      width: 32px;\n",
              "    }\n",
              "\n",
              "    .colab-df-convert:hover {\n",
              "      background-color: #E2EBFA;\n",
              "      box-shadow: 0px 1px 2px rgba(60, 64, 67, 0.3), 0px 1px 3px 1px rgba(60, 64, 67, 0.15);\n",
              "      fill: #174EA6;\n",
              "    }\n",
              "\n",
              "    [theme=dark] .colab-df-convert {\n",
              "      background-color: #3B4455;\n",
              "      fill: #D2E3FC;\n",
              "    }\n",
              "\n",
              "    [theme=dark] .colab-df-convert:hover {\n",
              "      background-color: #434B5C;\n",
              "      box-shadow: 0px 1px 3px 1px rgba(0, 0, 0, 0.15);\n",
              "      filter: drop-shadow(0px 1px 2px rgba(0, 0, 0, 0.3));\n",
              "      fill: #FFFFFF;\n",
              "    }\n",
              "  </style>\n",
              "\n",
              "      <script>\n",
              "        const buttonEl =\n",
              "          document.querySelector('#df-3c806ae9-032e-4da7-9dd1-91c62665748d button.colab-df-convert');\n",
              "        buttonEl.style.display =\n",
              "          google.colab.kernel.accessAllowed ? 'block' : 'none';\n",
              "\n",
              "        async function convertToInteractive(key) {\n",
              "          const element = document.querySelector('#df-3c806ae9-032e-4da7-9dd1-91c62665748d');\n",
              "          const dataTable =\n",
              "            await google.colab.kernel.invokeFunction('convertToInteractive',\n",
              "                                                     [key], {});\n",
              "          if (!dataTable) return;\n",
              "\n",
              "          const docLinkHtml = 'Like what you see? Visit the ' +\n",
              "            '<a target=\"_blank\" href=https://colab.research.google.com/notebooks/data_table.ipynb>data table notebook</a>'\n",
              "            + ' to learn more about interactive tables.';\n",
              "          element.innerHTML = '';\n",
              "          dataTable['output_type'] = 'display_data';\n",
              "          await google.colab.output.renderOutput(dataTable, element);\n",
              "          const docLink = document.createElement('div');\n",
              "          docLink.innerHTML = docLinkHtml;\n",
              "          element.appendChild(docLink);\n",
              "        }\n",
              "      </script>\n",
              "    </div>\n",
              "  </div>\n",
              "  "
            ]
          },
          "metadata": {},
          "execution_count": 79
        }
      ]
    },
    {
      "cell_type": "code",
      "source": [
        "real_submit['신청 여부(타겟)'].value_counts()"
      ],
      "metadata": {
        "id": "m36ZgZ3s4G9N",
        "colab": {
          "base_uri": "https://localhost:8080/"
        },
        "outputId": "7a640469-1460-458d-fe80-cc82c8d3ac33"
      },
      "execution_count": null,
      "outputs": [
        {
          "output_type": "execute_result",
          "data": {
            "text/plain": [
              "0.0    806235\n",
              "1.0    242340\n",
              "Name: 신청 여부(타겟), dtype: int64"
            ]
          },
          "metadata": {},
          "execution_count": 80
        }
      ]
    },
    {
      "cell_type": "code",
      "source": [
        "real_submit.to_csv(ROOT + '데이터분석분야_퓨처스부문_인생핀다_평가데이터.csv', index=False)"
      ],
      "metadata": {
        "id": "KdK22S0yCiao"
      },
      "execution_count": null,
      "outputs": []
    },
    {
      "cell_type": "code",
      "source": [],
      "metadata": {
        "id": "KFk1rz4FC5vg"
      },
      "execution_count": null,
      "outputs": []
    }
  ]
}